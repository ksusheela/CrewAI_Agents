{
  "cells": [
    {
      "cell_type": "markdown",
      "metadata": {
        "id": "HV1DyBd2RHrN"
      },
      "source": [
        "### Install required pacakges\n"
      ]
    },
    {
      "cell_type": "code",
      "execution_count": null,
      "metadata": {
        "colab": {
          "base_uri": "https://localhost:8080/"
        },
        "id": "fGeRGKLXcZ9B",
        "outputId": "2a00dfbd-4be1-4cd3-9595-ed76605a53e1"
      },
      "outputs": [],
      "source": [
        "#from google.colab import drive\n",
        "#drive.mount('/content/drive')"
      ]
    },
    {
      "cell_type": "code",
      "execution_count": 5,
      "metadata": {
        "colab": {
          "base_uri": "https://localhost:8080/"
        },
        "id": "xOj-BuKARJrH",
        "outputId": "c6d7631f-624c-4064-8d58-7725cff4b039"
      },
      "outputs": [
        {
          "name": "stdout",
          "output_type": "stream",
          "text": [
            "Collecting crewai"
          ]
        },
        {
          "name": "stderr",
          "output_type": "stream",
          "text": [
            "  error: subprocess-exited-with-error\n",
            "  \n",
            "  × Building wheel for chroma-hnswlib (pyproject.toml) did not run successfully.\n",
            "  │ exit code: 1\n",
            "  ╰─> [5 lines of output]\n",
            "      running bdist_wheel\n",
            "      running build\n",
            "      running build_ext\n",
            "      building 'hnswlib' extension\n",
            "      error: Microsoft Visual C++ 14.0 or greater is required. Get it with \"Microsoft C++ Build Tools\": https://visualstudio.microsoft.com/visual-cpp-build-tools/\n",
            "      [end of output]\n",
            "  \n",
            "  note: This error originates from a subprocess, and is likely not a problem with pip.\n",
            "  ERROR: Failed building wheel for chroma-hnswlib\n",
            "ERROR: ERROR: Failed to build installable wheels for some pyproject.toml based projects (chroma-hnswlib)\n"
          ]
        },
        {
          "name": "stdout",
          "output_type": "stream",
          "text": [
            "\n",
            "  Using cached crewai-0.86.0-py3-none-any.whl.metadata (19 kB)\n",
            "Collecting appdirs>=1.4.4 (from crewai)\n",
            "  Using cached appdirs-1.4.4-py2.py3-none-any.whl.metadata (9.0 kB)\n",
            "Collecting auth0-python>=4.7.1 (from crewai)\n",
            "  Using cached auth0_python-4.7.2-py3-none-any.whl.metadata (8.9 kB)\n",
            "Collecting chromadb>=0.5.18 (from crewai)\n",
            "  Using cached chromadb-0.5.23-py3-none-any.whl.metadata (6.8 kB)\n",
            "Requirement already satisfied: click>=8.1.7 in c:\\users\\sushe\\appdata\\local\\programs\\python\\python312\\lib\\site-packages (from crewai) (8.1.7)\n",
            "Collecting crewai-tools>=0.17.0 (from crewai)\n",
            "  Using cached crewai_tools-0.17.0-py3-none-any.whl.metadata (4.9 kB)\n",
            "Collecting instructor>=1.3.3 (from crewai)\n",
            "  Using cached instructor-1.7.2-py3-none-any.whl.metadata (18 kB)\n",
            "Collecting json-repair>=0.25.2 (from crewai)\n",
            "  Using cached json_repair-0.34.0-py3-none-any.whl.metadata (11 kB)\n",
            "Collecting jsonref>=1.1.0 (from crewai)\n",
            "  Using cached jsonref-1.1.0-py3-none-any.whl.metadata (2.7 kB)\n",
            "Collecting litellm>=1.44.22 (from crewai)\n",
            "  Using cached litellm-1.55.12-py3-none-any.whl.metadata (36 kB)\n",
            "Requirement already satisfied: openai>=1.13.3 in c:\\users\\sushe\\appdata\\local\\programs\\python\\python312\\lib\\site-packages (from crewai) (1.58.1)\n",
            "Collecting openpyxl>=3.1.5 (from crewai)\n",
            "  Using cached openpyxl-3.1.5-py2.py3-none-any.whl.metadata (2.5 kB)\n",
            "Collecting opentelemetry-api>=1.22.0 (from crewai)\n",
            "  Using cached opentelemetry_api-1.29.0-py3-none-any.whl.metadata (1.4 kB)\n",
            "Collecting opentelemetry-exporter-otlp-proto-http>=1.22.0 (from crewai)\n",
            "  Using cached opentelemetry_exporter_otlp_proto_http-1.29.0-py3-none-any.whl.metadata (2.2 kB)\n",
            "Collecting opentelemetry-sdk>=1.22.0 (from crewai)\n",
            "  Using cached opentelemetry_sdk-1.29.0-py3-none-any.whl.metadata (1.5 kB)\n",
            "Collecting pdfplumber>=0.11.4 (from crewai)\n",
            "  Using cached pdfplumber-0.11.4-py3-none-any.whl.metadata (41 kB)\n",
            "Requirement already satisfied: pydantic>=2.4.2 in c:\\users\\sushe\\appdata\\local\\programs\\python\\python312\\lib\\site-packages (from crewai) (2.9.2)\n",
            "Requirement already satisfied: python-dotenv>=1.0.0 in c:\\users\\sushe\\appdata\\local\\programs\\python\\python312\\lib\\site-packages (from crewai) (1.0.1)\n",
            "Collecting pyvis>=0.3.2 (from crewai)\n",
            "  Using cached pyvis-0.3.2-py3-none-any.whl.metadata (1.7 kB)\n",
            "Collecting regex>=2024.9.11 (from crewai)\n",
            "  Using cached regex-2024.11.6-cp312-cp312-win_amd64.whl.metadata (41 kB)\n",
            "Collecting tomli-w>=1.1.0 (from crewai)\n",
            "  Using cached tomli_w-1.1.0-py3-none-any.whl.metadata (5.7 kB)\n",
            "Collecting tomli>=2.0.2 (from crewai)\n",
            "  Using cached tomli-2.2.1-cp312-cp312-win_amd64.whl.metadata (12 kB)\n",
            "Collecting uv>=0.4.25 (from crewai)\n",
            "  Using cached uv-0.5.12-py3-none-win_amd64.whl.metadata (11 kB)\n",
            "Requirement already satisfied: aiohttp<4.0.0,>=3.8.5 in c:\\users\\sushe\\appdata\\local\\programs\\python\\python312\\lib\\site-packages (from auth0-python>=4.7.1->crewai) (3.11.0)\n",
            "Collecting cryptography<44.0.0,>=43.0.1 (from auth0-python>=4.7.1->crewai)\n",
            "  Using cached cryptography-43.0.3-cp39-abi3-win_amd64.whl.metadata (5.4 kB)\n",
            "Requirement already satisfied: pyjwt<3.0.0,>=2.8.0 in c:\\users\\sushe\\appdata\\local\\programs\\python\\python312\\lib\\site-packages (from auth0-python>=4.7.1->crewai) (2.10.1)\n",
            "Requirement already satisfied: requests<3.0.0,>=2.31.0 in c:\\users\\sushe\\appdata\\local\\programs\\python\\python312\\lib\\site-packages (from auth0-python>=4.7.1->crewai) (2.32.3)\n",
            "Requirement already satisfied: urllib3<3.0.0,>=2.0.7 in c:\\users\\sushe\\appdata\\local\\programs\\python\\python312\\lib\\site-packages (from auth0-python>=4.7.1->crewai) (2.2.3)\n",
            "Collecting build>=1.0.3 (from chromadb>=0.5.18->crewai)\n",
            "  Using cached build-1.2.2.post1-py3-none-any.whl.metadata (6.5 kB)\n",
            "Collecting chroma-hnswlib==0.7.6 (from chromadb>=0.5.18->crewai)\n",
            "  Using cached chroma_hnswlib-0.7.6.tar.gz (32 kB)\n",
            "  Installing build dependencies: started\n",
            "  Installing build dependencies: finished with status 'done'\n",
            "  Getting requirements to build wheel: started\n",
            "  Getting requirements to build wheel: finished with status 'done'\n",
            "  Preparing metadata (pyproject.toml): started\n",
            "  Preparing metadata (pyproject.toml): finished with status 'done'\n",
            "Requirement already satisfied: fastapi>=0.95.2 in c:\\users\\sushe\\appdata\\local\\programs\\python\\python312\\lib\\site-packages (from chromadb>=0.5.18->crewai) (0.115.5)\n",
            "Requirement already satisfied: uvicorn>=0.18.3 in c:\\users\\sushe\\appdata\\local\\programs\\python\\python312\\lib\\site-packages (from uvicorn[standard]>=0.18.3->chromadb>=0.5.18->crewai) (0.32.0)\n",
            "Requirement already satisfied: numpy>=1.22.5 in c:\\users\\sushe\\appdata\\local\\programs\\python\\python312\\lib\\site-packages (from chromadb>=0.5.18->crewai) (2.1.3)\n",
            "Collecting posthog>=2.4.0 (from chromadb>=0.5.18->crewai)\n",
            "  Using cached posthog-3.7.4-py2.py3-none-any.whl.metadata (2.0 kB)\n",
            "Requirement already satisfied: typing_extensions>=4.5.0 in c:\\users\\sushe\\appdata\\local\\programs\\python\\python312\\lib\\site-packages (from chromadb>=0.5.18->crewai) (4.12.2)\n",
            "Collecting onnxruntime>=1.14.1 (from chromadb>=0.5.18->crewai)\n",
            "  Using cached onnxruntime-1.20.1-cp312-cp312-win_amd64.whl.metadata (4.7 kB)\n",
            "Collecting opentelemetry-exporter-otlp-proto-grpc>=1.2.0 (from chromadb>=0.5.18->crewai)\n",
            "  Using cached opentelemetry_exporter_otlp_proto_grpc-1.29.0-py3-none-any.whl.metadata (2.2 kB)\n",
            "Collecting opentelemetry-instrumentation-fastapi>=0.41b0 (from chromadb>=0.5.18->crewai)\n",
            "  Using cached opentelemetry_instrumentation_fastapi-0.50b0-py3-none-any.whl.metadata (2.1 kB)\n",
            "Requirement already satisfied: tokenizers<=0.20.3,>=0.13.2 in c:\\users\\sushe\\appdata\\local\\programs\\python\\python312\\lib\\site-packages (from chromadb>=0.5.18->crewai) (0.20.1)\n",
            "Collecting pypika>=0.48.9 (from chromadb>=0.5.18->crewai)\n",
            "  Using cached PyPika-0.48.9-py2.py3-none-any.whl\n",
            "Requirement already satisfied: tqdm>=4.65.0 in c:\\users\\sushe\\appdata\\local\\programs\\python\\python312\\lib\\site-packages (from chromadb>=0.5.18->crewai) (4.67.0)\n",
            "Requirement already satisfied: overrides>=7.3.1 in c:\\users\\sushe\\appdata\\local\\programs\\python\\python312\\lib\\site-packages (from chromadb>=0.5.18->crewai) (7.7.0)\n",
            "Requirement already satisfied: importlib-resources in c:\\users\\sushe\\appdata\\local\\programs\\python\\python312\\lib\\site-packages (from chromadb>=0.5.18->crewai) (6.4.5)\n",
            "Requirement already satisfied: grpcio>=1.58.0 in c:\\users\\sushe\\appdata\\local\\programs\\python\\python312\\lib\\site-packages (from chromadb>=0.5.18->crewai) (1.67.1)\n",
            "Collecting bcrypt>=4.0.1 (from chromadb>=0.5.18->crewai)\n",
            "  Using cached bcrypt-4.2.1-cp39-abi3-win_amd64.whl.metadata (10 kB)\n",
            "Requirement already satisfied: typer>=0.9.0 in c:\\users\\sushe\\appdata\\local\\programs\\python\\python312\\lib\\site-packages (from chromadb>=0.5.18->crewai) (0.12.3)\n",
            "Collecting kubernetes>=28.1.0 (from chromadb>=0.5.18->crewai)\n",
            "  Using cached kubernetes-31.0.0-py2.py3-none-any.whl.metadata (1.5 kB)\n",
            "Requirement already satisfied: tenacity>=8.2.3 in c:\\users\\sushe\\appdata\\local\\programs\\python\\python312\\lib\\site-packages (from chromadb>=0.5.18->crewai) (9.0.0)\n",
            "Requirement already satisfied: PyYAML>=6.0.0 in c:\\users\\sushe\\appdata\\local\\programs\\python\\python312\\lib\\site-packages (from chromadb>=0.5.18->crewai) (6.0.1)\n",
            "Collecting mmh3>=4.0.1 (from chromadb>=0.5.18->crewai)\n",
            "  Using cached mmh3-5.0.1-cp312-cp312-win_amd64.whl.metadata (14 kB)\n",
            "Requirement already satisfied: orjson>=3.9.12 in c:\\users\\sushe\\appdata\\local\\programs\\python\\python312\\lib\\site-packages (from chromadb>=0.5.18->crewai) (3.10.7)\n",
            "Requirement already satisfied: httpx>=0.27.0 in c:\\users\\sushe\\appdata\\local\\programs\\python\\python312\\lib\\site-packages (from chromadb>=0.5.18->crewai) (0.27.2)\n",
            "Requirement already satisfied: rich>=10.11.0 in c:\\users\\sushe\\appdata\\local\\programs\\python\\python312\\lib\\site-packages (from chromadb>=0.5.18->crewai) (13.9.4)\n",
            "Requirement already satisfied: colorama in c:\\users\\sushe\\appdata\\local\\programs\\python\\python312\\lib\\site-packages (from click>=8.1.7->crewai) (0.4.6)\n",
            "Requirement already satisfied: beautifulsoup4>=4.12.3 in c:\\users\\sushe\\appdata\\local\\programs\\python\\python312\\lib\\site-packages (from crewai-tools>=0.17.0->crewai) (4.12.3)\n",
            "Collecting docker>=7.1.0 (from crewai-tools>=0.17.0->crewai)\n",
            "  Using cached docker-7.1.0-py3-none-any.whl.metadata (3.8 kB)\n",
            "Collecting docx2txt>=0.8 (from crewai-tools>=0.17.0->crewai)\n",
            "  Using cached docx2txt-0.8-py3-none-any.whl\n",
            "Collecting embedchain>=0.1.114 (from crewai-tools>=0.17.0->crewai)\n",
            "  Using cached embedchain-0.1.125-py3-none-any.whl.metadata (9.3 kB)\n",
            "Collecting lancedb>=0.5.4 (from crewai-tools>=0.17.0->crewai)\n",
            "  Using cached lancedb-0.17.1-cp39-abi3-win_amd64.whl.metadata (4.8 kB)\n",
            "Collecting pyright>=1.1.350 (from crewai-tools>=0.17.0->crewai)\n",
            "  Using cached pyright-1.1.391-py3-none-any.whl.metadata (6.7 kB)\n",
            "Collecting pytest>=8.0.0 (from crewai-tools>=0.17.0->crewai)\n",
            "  Using cached pytest-8.3.4-py3-none-any.whl.metadata (7.5 kB)\n",
            "Collecting pytube>=15.0.0 (from crewai-tools>=0.17.0->crewai)\n",
            "  Using cached pytube-15.0.0-py3-none-any.whl.metadata (5.0 kB)\n",
            "Collecting selenium>=4.18.1 (from crewai-tools>=0.17.0->crewai)\n",
            "  Using cached selenium-4.27.1-py3-none-any.whl.metadata (7.1 kB)\n",
            "Collecting docstring-parser<1.0,>=0.16 (from instructor>=1.3.3->crewai)\n",
            "  Using cached docstring_parser-0.16-py3-none-any.whl.metadata (3.0 kB)\n",
            "Requirement already satisfied: jinja2<4.0.0,>=3.1.4 in c:\\users\\sushe\\appdata\\local\\programs\\python\\python312\\lib\\site-packages (from instructor>=1.3.3->crewai) (3.1.4)\n",
            "Requirement already satisfied: jiter<0.9,>=0.6.1 in c:\\users\\sushe\\appdata\\local\\programs\\python\\python312\\lib\\site-packages (from instructor>=1.3.3->crewai) (0.7.1)\n",
            "Requirement already satisfied: pydantic-core<3.0.0,>=2.18.0 in c:\\users\\sushe\\appdata\\local\\programs\\python\\python312\\lib\\site-packages (from instructor>=1.3.3->crewai) (2.23.4)\n",
            "Collecting importlib-metadata>=6.8.0 (from litellm>=1.44.22->crewai)\n",
            "  Using cached importlib_metadata-8.5.0-py3-none-any.whl.metadata (4.8 kB)\n",
            "Requirement already satisfied: jsonschema<5.0.0,>=4.22.0 in c:\\users\\sushe\\appdata\\local\\programs\\python\\python312\\lib\\site-packages (from litellm>=1.44.22->crewai) (4.23.0)\n",
            "Requirement already satisfied: tiktoken>=0.7.0 in c:\\users\\sushe\\appdata\\local\\programs\\python\\python312\\lib\\site-packages (from litellm>=1.44.22->crewai) (0.8.0)\n",
            "Requirement already satisfied: anyio<5,>=3.5.0 in c:\\users\\sushe\\appdata\\local\\programs\\python\\python312\\lib\\site-packages (from openai>=1.13.3->crewai) (4.6.2.post1)\n",
            "Requirement already satisfied: distro<2,>=1.7.0 in c:\\users\\sushe\\appdata\\local\\programs\\python\\python312\\lib\\site-packages (from openai>=1.13.3->crewai) (1.9.0)\n",
            "Requirement already satisfied: sniffio in c:\\users\\sushe\\appdata\\local\\programs\\python\\python312\\lib\\site-packages (from openai>=1.13.3->crewai) (1.3.1)\n",
            "Collecting et-xmlfile (from openpyxl>=3.1.5->crewai)\n",
            "  Using cached et_xmlfile-2.0.0-py3-none-any.whl.metadata (2.7 kB)\n",
            "Collecting deprecated>=1.2.6 (from opentelemetry-api>=1.22.0->crewai)\n",
            "  Using cached Deprecated-1.2.15-py2.py3-none-any.whl.metadata (5.5 kB)\n",
            "Requirement already satisfied: googleapis-common-protos~=1.52 in c:\\users\\sushe\\appdata\\local\\programs\\python\\python312\\lib\\site-packages (from opentelemetry-exporter-otlp-proto-http>=1.22.0->crewai) (1.65.0)\n",
            "Collecting opentelemetry-exporter-otlp-proto-common==1.29.0 (from opentelemetry-exporter-otlp-proto-http>=1.22.0->crewai)\n",
            "  Using cached opentelemetry_exporter_otlp_proto_common-1.29.0-py3-none-any.whl.metadata (1.8 kB)\n",
            "Collecting opentelemetry-proto==1.29.0 (from opentelemetry-exporter-otlp-proto-http>=1.22.0->crewai)\n",
            "  Using cached opentelemetry_proto-1.29.0-py3-none-any.whl.metadata (2.3 kB)\n",
            "Collecting protobuf<6.0,>=5.0 (from opentelemetry-proto==1.29.0->opentelemetry-exporter-otlp-proto-http>=1.22.0->crewai)\n",
            "  Using cached protobuf-5.29.2-cp310-abi3-win_amd64.whl.metadata (592 bytes)\n",
            "Collecting opentelemetry-semantic-conventions==0.50b0 (from opentelemetry-sdk>=1.22.0->crewai)\n",
            "  Using cached opentelemetry_semantic_conventions-0.50b0-py3-none-any.whl.metadata (2.3 kB)\n",
            "Collecting pdfminer.six==20231228 (from pdfplumber>=0.11.4->crewai)\n",
            "  Using cached pdfminer.six-20231228-py3-none-any.whl.metadata (4.2 kB)\n",
            "Requirement already satisfied: Pillow>=9.1 in c:\\users\\sushe\\appdata\\local\\programs\\python\\python312\\lib\\site-packages (from pdfplumber>=0.11.4->crewai) (11.0.0)\n",
            "Collecting pypdfium2>=4.18.0 (from pdfplumber>=0.11.4->crewai)\n",
            "  Using cached pypdfium2-4.30.1-py3-none-win_amd64.whl.metadata (48 kB)\n",
            "Requirement already satisfied: charset-normalizer>=2.0.0 in c:\\users\\sushe\\appdata\\local\\programs\\python\\python312\\lib\\site-packages (from pdfminer.six==20231228->pdfplumber>=0.11.4->crewai) (3.4.0)\n",
            "Requirement already satisfied: annotated-types>=0.6.0 in c:\\users\\sushe\\appdata\\local\\programs\\python\\python312\\lib\\site-packages (from pydantic>=2.4.2->crewai) (0.7.0)\n",
            "Requirement already satisfied: ipython>=5.3.0 in c:\\users\\sushe\\appdata\\local\\programs\\python\\python312\\lib\\site-packages (from pyvis>=0.3.2->crewai) (8.22.1)\n",
            "Collecting jsonpickle>=1.4.1 (from pyvis>=0.3.2->crewai)\n",
            "  Using cached jsonpickle-4.0.1-py3-none-any.whl.metadata (8.2 kB)\n",
            "Requirement already satisfied: networkx>=1.11 in c:\\users\\sushe\\appdata\\local\\programs\\python\\python312\\lib\\site-packages (from pyvis>=0.3.2->crewai) (3.4.2)\n",
            "Requirement already satisfied: aiohappyeyeballs>=2.3.0 in c:\\users\\sushe\\appdata\\local\\programs\\python\\python312\\lib\\site-packages (from aiohttp<4.0.0,>=3.8.5->auth0-python>=4.7.1->crewai) (2.4.3)\n",
            "Requirement already satisfied: aiosignal>=1.1.2 in c:\\users\\sushe\\appdata\\local\\programs\\python\\python312\\lib\\site-packages (from aiohttp<4.0.0,>=3.8.5->auth0-python>=4.7.1->crewai) (1.3.1)\n",
            "Requirement already satisfied: attrs>=17.3.0 in c:\\users\\sushe\\appdata\\local\\programs\\python\\python312\\lib\\site-packages (from aiohttp<4.0.0,>=3.8.5->auth0-python>=4.7.1->crewai) (24.2.0)\n",
            "Requirement already satisfied: frozenlist>=1.1.1 in c:\\users\\sushe\\appdata\\local\\programs\\python\\python312\\lib\\site-packages (from aiohttp<4.0.0,>=3.8.5->auth0-python>=4.7.1->crewai) (1.5.0)\n",
            "Requirement already satisfied: multidict<7.0,>=4.5 in c:\\users\\sushe\\appdata\\local\\programs\\python\\python312\\lib\\site-packages (from aiohttp<4.0.0,>=3.8.5->auth0-python>=4.7.1->crewai) (6.1.0)\n",
            "Requirement already satisfied: propcache>=0.2.0 in c:\\users\\sushe\\appdata\\local\\programs\\python\\python312\\lib\\site-packages (from aiohttp<4.0.0,>=3.8.5->auth0-python>=4.7.1->crewai) (0.2.0)\n",
            "Requirement already satisfied: yarl<2.0,>=1.17.0 in c:\\users\\sushe\\appdata\\local\\programs\\python\\python312\\lib\\site-packages (from aiohttp<4.0.0,>=3.8.5->auth0-python>=4.7.1->crewai) (1.17.1)\n",
            "Requirement already satisfied: idna>=2.8 in c:\\users\\sushe\\appdata\\local\\programs\\python\\python312\\lib\\site-packages (from anyio<5,>=3.5.0->openai>=1.13.3->crewai) (3.10)\n",
            "Requirement already satisfied: soupsieve>1.2 in c:\\users\\sushe\\appdata\\local\\programs\\python\\python312\\lib\\site-packages (from beautifulsoup4>=4.12.3->crewai-tools>=0.17.0->crewai) (2.5)\n",
            "Requirement already satisfied: packaging>=19.1 in c:\\users\\sushe\\appdata\\local\\programs\\python\\python312\\lib\\site-packages (from build>=1.0.3->chromadb>=0.5.18->crewai) (24.2)\n",
            "Collecting pyproject_hooks (from build>=1.0.3->chromadb>=0.5.18->crewai)\n",
            "  Using cached pyproject_hooks-1.2.0-py3-none-any.whl.metadata (1.3 kB)\n",
            "Requirement already satisfied: cffi>=1.12 in c:\\users\\sushe\\appdata\\local\\programs\\python\\python312\\lib\\site-packages (from cryptography<44.0.0,>=43.0.1->auth0-python>=4.7.1->crewai) (1.17.1)\n",
            "Requirement already satisfied: wrapt<2,>=1.10 in c:\\users\\sushe\\appdata\\local\\programs\\python\\python312\\lib\\site-packages (from deprecated>=1.2.6->opentelemetry-api>=1.22.0->crewai) (1.16.0)\n",
            "Requirement already satisfied: pywin32>=304 in c:\\users\\sushe\\appdata\\local\\programs\\python\\python312\\lib\\site-packages (from docker>=7.1.0->crewai-tools>=0.17.0->crewai) (306)\n",
            "Collecting alembic<2.0.0,>=1.13.1 (from embedchain>=0.1.114->crewai-tools>=0.17.0->crewai)\n",
            "  Using cached alembic-1.14.0-py3-none-any.whl.metadata (7.4 kB)\n",
            "Collecting cohere<6.0,>=5.3 (from embedchain>=0.1.114->crewai-tools>=0.17.0->crewai)\n",
            "  Using cached cohere-5.13.4-py3-none-any.whl.metadata (3.4 kB)\n",
            "Collecting google-cloud-aiplatform<2.0.0,>=1.26.1 (from embedchain>=0.1.114->crewai-tools>=0.17.0->crewai)\n",
            "  Using cached google_cloud_aiplatform-1.75.0-py2.py3-none-any.whl.metadata (31 kB)\n",
            "Collecting gptcache<0.2.0,>=0.1.43 (from embedchain>=0.1.114->crewai-tools>=0.17.0->crewai)\n",
            "  Using cached gptcache-0.1.44-py3-none-any.whl.metadata (24 kB)\n",
            "Collecting langchain<0.4.0,>=0.3.1 (from embedchain>=0.1.114->crewai-tools>=0.17.0->crewai)\n",
            "  Using cached langchain-0.3.13-py3-none-any.whl.metadata (7.1 kB)\n",
            "Collecting langchain-cohere<0.4.0,>=0.3.0 (from embedchain>=0.1.114->crewai-tools>=0.17.0->crewai)\n",
            "  Using cached langchain_cohere-0.3.4-py3-none-any.whl.metadata (6.7 kB)\n",
            "Requirement already satisfied: langchain-community<0.4.0,>=0.3.1 in c:\\users\\sushe\\appdata\\local\\programs\\python\\python312\\lib\\site-packages (from embedchain>=0.1.114->crewai-tools>=0.17.0->crewai) (0.3.7)\n",
            "Requirement already satisfied: langchain-openai<0.3.0,>=0.2.1 in c:\\users\\sushe\\appdata\\local\\programs\\python\\python312\\lib\\site-packages (from embedchain>=0.1.114->crewai-tools>=0.17.0->crewai) (0.2.13)\n",
            "Requirement already satisfied: langsmith<0.2.0,>=0.1.17 in c:\\users\\sushe\\appdata\\local\\programs\\python\\python312\\lib\\site-packages (from embedchain>=0.1.114->crewai-tools>=0.17.0->crewai) (0.1.144)\n",
            "Collecting mem0ai<0.2.0,>=0.1.29 (from embedchain>=0.1.114->crewai-tools>=0.17.0->crewai)\n",
            "  Using cached mem0ai-0.1.36-py3-none-any.whl.metadata (10 kB)\n",
            "Collecting pypdf<6.0.0,>=5.0.0 (from embedchain>=0.1.114->crewai-tools>=0.17.0->crewai)\n",
            "  Using cached pypdf-5.1.0-py3-none-any.whl.metadata (7.2 kB)\n",
            "Collecting pysbd<0.4.0,>=0.3.4 (from embedchain>=0.1.114->crewai-tools>=0.17.0->crewai)\n",
            "  Using cached pysbd-0.3.4-py3-none-any.whl.metadata (6.1 kB)\n",
            "Collecting schema<0.8.0,>=0.7.5 (from embedchain>=0.1.114->crewai-tools>=0.17.0->crewai)\n",
            "  Using cached schema-0.7.7-py2.py3-none-any.whl.metadata (34 kB)\n",
            "Requirement already satisfied: sqlalchemy<3.0.0,>=2.0.27 in c:\\users\\sushe\\appdata\\local\\programs\\python\\python312\\lib\\site-packages (from embedchain>=0.1.114->crewai-tools>=0.17.0->crewai) (2.0.35)\n",
            "Collecting tiktoken>=0.7.0 (from litellm>=1.44.22->crewai)\n",
            "  Using cached tiktoken-0.7.0-cp312-cp312-win_amd64.whl.metadata (6.8 kB)\n",
            "Requirement already satisfied: starlette<0.42.0,>=0.40.0 in c:\\users\\sushe\\appdata\\local\\programs\\python\\python312\\lib\\site-packages (from fastapi>=0.95.2->chromadb>=0.5.18->crewai) (0.41.2)\n",
            "Requirement already satisfied: certifi in c:\\users\\sushe\\appdata\\local\\programs\\python\\python312\\lib\\site-packages (from httpx>=0.27.0->chromadb>=0.5.18->crewai) (2024.8.30)\n",
            "Requirement already satisfied: httpcore==1.* in c:\\users\\sushe\\appdata\\local\\programs\\python\\python312\\lib\\site-packages (from httpx>=0.27.0->chromadb>=0.5.18->crewai) (1.0.6)\n",
            "Requirement already satisfied: h11<0.15,>=0.13 in c:\\users\\sushe\\appdata\\local\\programs\\python\\python312\\lib\\site-packages (from httpcore==1.*->httpx>=0.27.0->chromadb>=0.5.18->crewai) (0.14.0)\n",
            "Collecting zipp>=3.20 (from importlib-metadata>=6.8.0->litellm>=1.44.22->crewai)\n",
            "  Using cached zipp-3.21.0-py3-none-any.whl.metadata (3.7 kB)\n",
            "Requirement already satisfied: decorator in c:\\users\\sushe\\appdata\\local\\programs\\python\\python312\\lib\\site-packages (from ipython>=5.3.0->pyvis>=0.3.2->crewai) (5.1.1)\n",
            "Requirement already satisfied: jedi>=0.16 in c:\\users\\sushe\\appdata\\local\\programs\\python\\python312\\lib\\site-packages (from ipython>=5.3.0->pyvis>=0.3.2->crewai) (0.19.1)\n",
            "Requirement already satisfied: matplotlib-inline in c:\\users\\sushe\\appdata\\local\\programs\\python\\python312\\lib\\site-packages (from ipython>=5.3.0->pyvis>=0.3.2->crewai) (0.1.6)\n",
            "Requirement already satisfied: prompt-toolkit<3.1.0,>=3.0.41 in c:\\users\\sushe\\appdata\\local\\programs\\python\\python312\\lib\\site-packages (from ipython>=5.3.0->pyvis>=0.3.2->crewai) (3.0.43)\n",
            "Requirement already satisfied: pygments>=2.4.0 in c:\\users\\sushe\\appdata\\local\\programs\\python\\python312\\lib\\site-packages (from ipython>=5.3.0->pyvis>=0.3.2->crewai) (2.18.0)\n",
            "Requirement already satisfied: stack-data in c:\\users\\sushe\\appdata\\local\\programs\\python\\python312\\lib\\site-packages (from ipython>=5.3.0->pyvis>=0.3.2->crewai) (0.6.3)\n",
            "Requirement already satisfied: traitlets>=5.13.0 in c:\\users\\sushe\\appdata\\local\\programs\\python\\python312\\lib\\site-packages (from ipython>=5.3.0->pyvis>=0.3.2->crewai) (5.14.1)\n",
            "Requirement already satisfied: MarkupSafe>=2.0 in c:\\users\\sushe\\appdata\\local\\programs\\python\\python312\\lib\\site-packages (from jinja2<4.0.0,>=3.1.4->instructor>=1.3.3->crewai) (3.0.2)\n",
            "Requirement already satisfied: jsonschema-specifications>=2023.03.6 in c:\\users\\sushe\\appdata\\local\\programs\\python\\python312\\lib\\site-packages (from jsonschema<5.0.0,>=4.22.0->litellm>=1.44.22->crewai) (2024.10.1)\n",
            "Requirement already satisfied: referencing>=0.28.4 in c:\\users\\sushe\\appdata\\local\\programs\\python\\python312\\lib\\site-packages (from jsonschema<5.0.0,>=4.22.0->litellm>=1.44.22->crewai) (0.35.1)\n",
            "Requirement already satisfied: rpds-py>=0.7.1 in c:\\users\\sushe\\appdata\\local\\programs\\python\\python312\\lib\\site-packages (from jsonschema<5.0.0,>=4.22.0->litellm>=1.44.22->crewai) (0.21.0)\n",
            "Requirement already satisfied: six>=1.9.0 in c:\\users\\sushe\\appdata\\local\\programs\\python\\python312\\lib\\site-packages (from kubernetes>=28.1.0->chromadb>=0.5.18->crewai) (1.16.0)\n",
            "Requirement already satisfied: python-dateutil>=2.5.3 in c:\\users\\sushe\\appdata\\local\\programs\\python\\python312\\lib\\site-packages (from kubernetes>=28.1.0->chromadb>=0.5.18->crewai) (2.9.0.post0)\n",
            "Requirement already satisfied: google-auth>=1.0.1 in c:\\users\\sushe\\appdata\\local\\programs\\python\\python312\\lib\\site-packages (from kubernetes>=28.1.0->chromadb>=0.5.18->crewai) (2.36.0)\n",
            "Requirement already satisfied: websocket-client!=0.40.0,!=0.41.*,!=0.42.*,>=0.32.0 in c:\\users\\sushe\\appdata\\local\\programs\\python\\python312\\lib\\site-packages (from kubernetes>=28.1.0->chromadb>=0.5.18->crewai) (1.7.0)\n",
            "Requirement already satisfied: requests-oauthlib in c:\\users\\sushe\\appdata\\local\\programs\\python\\python312\\lib\\site-packages (from kubernetes>=28.1.0->chromadb>=0.5.18->crewai) (2.0.0)\n",
            "Requirement already satisfied: oauthlib>=3.2.2 in c:\\users\\sushe\\appdata\\local\\programs\\python\\python312\\lib\\site-packages (from kubernetes>=28.1.0->chromadb>=0.5.18->crewai) (3.2.2)\n",
            "Collecting durationpy>=0.7 (from kubernetes>=28.1.0->chromadb>=0.5.18->crewai)\n",
            "  Using cached durationpy-0.9-py3-none-any.whl.metadata (338 bytes)\n",
            "Requirement already satisfied: deprecation in c:\\users\\sushe\\appdata\\local\\programs\\python\\python312\\lib\\site-packages (from lancedb>=0.5.4->crewai-tools>=0.17.0->crewai) (2.1.0)\n",
            "INFO: pip is looking at multiple versions of lancedb to determine which version is compatible with other requirements. This could take a while.\n",
            "Collecting lancedb>=0.5.4 (from crewai-tools>=0.17.0->crewai)\n",
            "  Using cached lancedb-0.17.0-cp39-abi3-win_amd64.whl.metadata (4.8 kB)\n",
            "Collecting pylance==0.20.0 (from lancedb>=0.5.4->crewai-tools>=0.17.0->crewai)\n",
            "  Using cached pylance-0.20.0-cp39-abi3-win_amd64.whl.metadata (7.6 kB)\n",
            "Requirement already satisfied: pyarrow>=14 in c:\\users\\sushe\\appdata\\local\\programs\\python\\python312\\lib\\site-packages (from pylance==0.20.0->lancedb>=0.5.4->crewai-tools>=0.17.0->crewai) (18.0.0)\n",
            "Collecting coloredlogs (from onnxruntime>=1.14.1->chromadb>=0.5.18->crewai)\n",
            "  Using cached coloredlogs-15.0.1-py2.py3-none-any.whl.metadata (12 kB)\n",
            "Requirement already satisfied: flatbuffers in c:\\users\\sushe\\appdata\\local\\programs\\python\\python312\\lib\\site-packages (from onnxruntime>=1.14.1->chromadb>=0.5.18->crewai) (24.3.7)\n",
            "Requirement already satisfied: sympy in c:\\users\\sushe\\appdata\\local\\programs\\python\\python312\\lib\\site-packages (from onnxruntime>=1.14.1->chromadb>=0.5.18->crewai) (1.13.1)\n",
            "Collecting opentelemetry-instrumentation-asgi==0.50b0 (from opentelemetry-instrumentation-fastapi>=0.41b0->chromadb>=0.5.18->crewai)\n",
            "  Using cached opentelemetry_instrumentation_asgi-0.50b0-py3-none-any.whl.metadata (1.9 kB)\n",
            "Collecting opentelemetry-instrumentation==0.50b0 (from opentelemetry-instrumentation-fastapi>=0.41b0->chromadb>=0.5.18->crewai)\n",
            "  Using cached opentelemetry_instrumentation-0.50b0-py3-none-any.whl.metadata (6.1 kB)\n",
            "Collecting opentelemetry-util-http==0.50b0 (from opentelemetry-instrumentation-fastapi>=0.41b0->chromadb>=0.5.18->crewai)\n",
            "  Using cached opentelemetry_util_http-0.50b0-py3-none-any.whl.metadata (2.5 kB)\n",
            "Collecting asgiref~=3.0 (from opentelemetry-instrumentation-asgi==0.50b0->opentelemetry-instrumentation-fastapi>=0.41b0->chromadb>=0.5.18->crewai)\n",
            "  Using cached asgiref-3.8.1-py3-none-any.whl.metadata (9.3 kB)\n",
            "Collecting monotonic>=1.5 (from posthog>=2.4.0->chromadb>=0.5.18->crewai)\n",
            "  Using cached monotonic-1.6-py2.py3-none-any.whl.metadata (1.5 kB)\n",
            "Collecting backoff>=1.10.0 (from posthog>=2.4.0->chromadb>=0.5.18->crewai)\n",
            "  Using cached backoff-2.2.1-py3-none-any.whl.metadata (14 kB)\n",
            "Collecting nodeenv>=1.6.0 (from pyright>=1.1.350->crewai-tools>=0.17.0->crewai)\n",
            "  Using cached nodeenv-1.9.1-py2.py3-none-any.whl.metadata (21 kB)\n",
            "Collecting iniconfig (from pytest>=8.0.0->crewai-tools>=0.17.0->crewai)\n",
            "  Using cached iniconfig-2.0.0-py3-none-any.whl.metadata (2.6 kB)\n",
            "Collecting pluggy<2,>=1.5 (from pytest>=8.0.0->crewai-tools>=0.17.0->crewai)\n",
            "  Using cached pluggy-1.5.0-py3-none-any.whl.metadata (4.8 kB)\n",
            "Requirement already satisfied: markdown-it-py>=2.2.0 in c:\\users\\sushe\\appdata\\local\\programs\\python\\python312\\lib\\site-packages (from rich>=10.11.0->chromadb>=0.5.18->crewai) (3.0.0)\n",
            "Collecting trio~=0.17 (from selenium>=4.18.1->crewai-tools>=0.17.0->crewai)\n",
            "  Using cached trio-0.28.0-py3-none-any.whl.metadata (8.5 kB)\n",
            "Collecting trio-websocket~=0.9 (from selenium>=4.18.1->crewai-tools>=0.17.0->crewai)\n",
            "  Using cached trio_websocket-0.11.1-py3-none-any.whl.metadata (4.7 kB)\n",
            "Collecting websocket-client!=0.40.0,!=0.41.*,!=0.42.*,>=0.32.0 (from kubernetes>=28.1.0->chromadb>=0.5.18->crewai)\n",
            "  Using cached websocket_client-1.8.0-py3-none-any.whl.metadata (8.0 kB)\n",
            "Requirement already satisfied: huggingface-hub<1.0,>=0.16.4 in c:\\users\\sushe\\appdata\\local\\programs\\python\\python312\\lib\\site-packages (from tokenizers<=0.20.3,>=0.13.2->chromadb>=0.5.18->crewai) (0.25.0)\n",
            "Requirement already satisfied: shellingham>=1.3.0 in c:\\users\\sushe\\appdata\\local\\programs\\python\\python312\\lib\\site-packages (from typer>=0.9.0->chromadb>=0.5.18->crewai) (1.5.4)\n",
            "Collecting httptools>=0.5.0 (from uvicorn[standard]>=0.18.3->chromadb>=0.5.18->crewai)\n",
            "  Using cached httptools-0.6.4-cp312-cp312-win_amd64.whl.metadata (3.7 kB)\n",
            "Collecting watchfiles>=0.13 (from uvicorn[standard]>=0.18.3->chromadb>=0.5.18->crewai)\n",
            "  Using cached watchfiles-1.0.3-cp312-cp312-win_amd64.whl.metadata (5.0 kB)\n",
            "Requirement already satisfied: websockets>=10.4 in c:\\users\\sushe\\appdata\\local\\programs\\python\\python312\\lib\\site-packages (from uvicorn[standard]>=0.18.3->chromadb>=0.5.18->crewai) (14.1)\n",
            "Collecting Mako (from alembic<2.0.0,>=1.13.1->embedchain>=0.1.114->crewai-tools>=0.17.0->crewai)\n",
            "  Using cached Mako-1.3.8-py3-none-any.whl.metadata (2.9 kB)\n",
            "Requirement already satisfied: pycparser in c:\\users\\sushe\\appdata\\local\\programs\\python\\python312\\lib\\site-packages (from cffi>=1.12->cryptography<44.0.0,>=43.0.1->auth0-python>=4.7.1->crewai) (2.22)\n",
            "Collecting fastavro<2.0.0,>=1.9.4 (from cohere<6.0,>=5.3->embedchain>=0.1.114->crewai-tools>=0.17.0->crewai)\n",
            "  Using cached fastavro-1.10.0-cp312-cp312-win_amd64.whl.metadata (5.7 kB)\n",
            "Requirement already satisfied: httpx-sse==0.4.0 in c:\\users\\sushe\\appdata\\local\\programs\\python\\python312\\lib\\site-packages (from cohere<6.0,>=5.3->embedchain>=0.1.114->crewai-tools>=0.17.0->crewai) (0.4.0)\n",
            "Collecting parameterized<0.10.0,>=0.9.0 (from cohere<6.0,>=5.3->embedchain>=0.1.114->crewai-tools>=0.17.0->crewai)\n",
            "  Using cached parameterized-0.9.0-py2.py3-none-any.whl.metadata (18 kB)\n",
            "Collecting types-requests<3.0.0,>=2.0.0 (from cohere<6.0,>=5.3->embedchain>=0.1.114->crewai-tools>=0.17.0->crewai)\n",
            "  Using cached types_requests-2.32.0.20241016-py3-none-any.whl.metadata (1.9 kB)\n",
            "Requirement already satisfied: cachetools<6.0,>=2.0.0 in c:\\users\\sushe\\appdata\\local\\programs\\python\\python312\\lib\\site-packages (from google-auth>=1.0.1->kubernetes>=28.1.0->chromadb>=0.5.18->crewai) (5.5.0)\n",
            "Requirement already satisfied: pyasn1-modules>=0.2.1 in c:\\users\\sushe\\appdata\\local\\programs\\python\\python312\\lib\\site-packages (from google-auth>=1.0.1->kubernetes>=28.1.0->chromadb>=0.5.18->crewai) (0.4.1)\n",
            "Requirement already satisfied: rsa<5,>=3.1.4 in c:\\users\\sushe\\appdata\\local\\programs\\python\\python312\\lib\\site-packages (from google-auth>=1.0.1->kubernetes>=28.1.0->chromadb>=0.5.18->crewai) (4.9)\n",
            "Requirement already satisfied: google-api-core!=2.0.*,!=2.1.*,!=2.2.*,!=2.3.*,!=2.4.*,!=2.5.*,!=2.6.*,!=2.7.*,<3.0.0dev,>=1.34.1 in c:\\users\\sushe\\appdata\\local\\programs\\python\\python312\\lib\\site-packages (from google-api-core[grpc]!=2.0.*,!=2.1.*,!=2.2.*,!=2.3.*,!=2.4.*,!=2.5.*,!=2.6.*,!=2.7.*,<3.0.0dev,>=1.34.1->google-cloud-aiplatform<2.0.0,>=1.26.1->embedchain>=0.1.114->crewai-tools>=0.17.0->crewai) (2.23.0)\n",
            "Requirement already satisfied: proto-plus<2.0.0dev,>=1.22.3 in c:\\users\\sushe\\appdata\\local\\programs\\python\\python312\\lib\\site-packages (from google-cloud-aiplatform<2.0.0,>=1.26.1->embedchain>=0.1.114->crewai-tools>=0.17.0->crewai) (1.25.0)\n",
            "Collecting google-cloud-storage<3.0.0dev,>=1.32.0 (from google-cloud-aiplatform<2.0.0,>=1.26.1->embedchain>=0.1.114->crewai-tools>=0.17.0->crewai)\n",
            "  Using cached google_cloud_storage-2.19.0-py2.py3-none-any.whl.metadata (9.1 kB)\n",
            "Collecting google-cloud-bigquery!=3.20.0,<4.0.0dev,>=1.15.0 (from google-cloud-aiplatform<2.0.0,>=1.26.1->embedchain>=0.1.114->crewai-tools>=0.17.0->crewai)\n",
            "  Using cached google_cloud_bigquery-3.27.0-py2.py3-none-any.whl.metadata (8.6 kB)\n",
            "Collecting google-cloud-resource-manager<3.0.0dev,>=1.3.3 (from google-cloud-aiplatform<2.0.0,>=1.26.1->embedchain>=0.1.114->crewai-tools>=0.17.0->crewai)\n",
            "  Using cached google_cloud_resource_manager-1.14.0-py2.py3-none-any.whl.metadata (5.4 kB)\n",
            "Collecting shapely<3.0.0dev (from google-cloud-aiplatform<2.0.0,>=1.26.1->embedchain>=0.1.114->crewai-tools>=0.17.0->crewai)\n",
            "  Using cached shapely-2.0.6-cp312-cp312-win_amd64.whl.metadata (7.2 kB)\n",
            "Requirement already satisfied: filelock in c:\\users\\sushe\\appdata\\local\\programs\\python\\python312\\lib\\site-packages (from huggingface-hub<1.0,>=0.16.4->tokenizers<=0.20.3,>=0.13.2->chromadb>=0.5.18->crewai) (3.16.1)\n",
            "Requirement already satisfied: fsspec>=2023.5.0 in c:\\users\\sushe\\appdata\\local\\programs\\python\\python312\\lib\\site-packages (from huggingface-hub<1.0,>=0.16.4->tokenizers<=0.20.3,>=0.13.2->chromadb>=0.5.18->crewai) (2024.9.0)\n",
            "Requirement already satisfied: parso<0.9.0,>=0.8.3 in c:\\users\\sushe\\appdata\\local\\programs\\python\\python312\\lib\\site-packages (from jedi>=0.16->ipython>=5.3.0->pyvis>=0.3.2->crewai) (0.8.3)\n",
            "Requirement already satisfied: langchain-core<0.4.0,>=0.3.26 in c:\\users\\sushe\\appdata\\local\\programs\\python\\python312\\lib\\site-packages (from langchain<0.4.0,>=0.3.1->embedchain>=0.1.114->crewai-tools>=0.17.0->crewai) (0.3.27)\n",
            "Collecting langchain-text-splitters<0.4.0,>=0.3.3 (from langchain<0.4.0,>=0.3.1->embedchain>=0.1.114->crewai-tools>=0.17.0->crewai)\n",
            "  Using cached langchain_text_splitters-0.3.4-py3-none-any.whl.metadata (2.3 kB)\n",
            "Collecting langchain-experimental<0.4.0,>=0.3.0 (from langchain-cohere<0.4.0,>=0.3.0->embedchain>=0.1.114->crewai-tools>=0.17.0->crewai)\n",
            "  Using cached langchain_experimental-0.3.4-py3-none-any.whl.metadata (1.7 kB)\n",
            "Requirement already satisfied: pandas>=1.4.3 in c:\\users\\sushe\\appdata\\local\\programs\\python\\python312\\lib\\site-packages (from langchain-cohere<0.4.0,>=0.3.0->embedchain>=0.1.114->crewai-tools>=0.17.0->crewai) (2.2.3)\n",
            "Collecting tabulate<0.10.0,>=0.9.0 (from langchain-cohere<0.4.0,>=0.3.0->embedchain>=0.1.114->crewai-tools>=0.17.0->crewai)\n",
            "  Using cached tabulate-0.9.0-py3-none-any.whl.metadata (34 kB)\n",
            "Requirement already satisfied: dataclasses-json<0.7,>=0.5.7 in c:\\users\\sushe\\appdata\\local\\programs\\python\\python312\\lib\\site-packages (from langchain-community<0.4.0,>=0.3.1->embedchain>=0.1.114->crewai-tools>=0.17.0->crewai) (0.6.7)\n",
            "Collecting numpy>=1.22.5 (from chromadb>=0.5.18->crewai)\n",
            "  Using cached numpy-1.26.4-cp312-cp312-win_amd64.whl.metadata (61 kB)\n",
            "Requirement already satisfied: pydantic-settings<3.0.0,>=2.4.0 in c:\\users\\sushe\\appdata\\local\\programs\\python\\python312\\lib\\site-packages (from langchain-community<0.4.0,>=0.3.1->embedchain>=0.1.114->crewai-tools>=0.17.0->crewai) (2.6.1)\n",
            "Requirement already satisfied: requests-toolbelt<2.0.0,>=1.0.0 in c:\\users\\sushe\\appdata\\local\\programs\\python\\python312\\lib\\site-packages (from langsmith<0.2.0,>=0.1.17->embedchain>=0.1.114->crewai-tools>=0.17.0->crewai) (1.0.0)\n",
            "Requirement already satisfied: mdurl~=0.1 in c:\\users\\sushe\\appdata\\local\\programs\\python\\python312\\lib\\site-packages (from markdown-it-py>=2.2.0->rich>=10.11.0->chromadb>=0.5.18->crewai) (0.1.2)\n",
            "Requirement already satisfied: pytz<2025.0,>=2024.1 in c:\\users\\sushe\\appdata\\local\\programs\\python\\python312\\lib\\site-packages (from mem0ai<0.2.0,>=0.1.29->embedchain>=0.1.114->crewai-tools>=0.17.0->crewai) (2024.2)\n",
            "Collecting qdrant-client<2.0.0,>=1.9.1 (from mem0ai<0.2.0,>=0.1.29->embedchain>=0.1.114->crewai-tools>=0.17.0->crewai)\n",
            "  Using cached qdrant_client-1.12.1-py3-none-any.whl.metadata (10 kB)\n",
            "Requirement already satisfied: wcwidth in c:\\users\\sushe\\appdata\\local\\programs\\python\\python312\\lib\\site-packages (from prompt-toolkit<3.1.0,>=3.0.41->ipython>=5.3.0->pyvis>=0.3.2->crewai) (0.2.13)\n",
            "Requirement already satisfied: greenlet!=0.4.17 in c:\\users\\sushe\\appdata\\local\\programs\\python\\python312\\lib\\site-packages (from sqlalchemy<3.0.0,>=2.0.27->embedchain>=0.1.114->crewai-tools>=0.17.0->crewai) (3.1.1)\n",
            "Collecting sortedcontainers (from trio~=0.17->selenium>=4.18.1->crewai-tools>=0.17.0->crewai)\n",
            "  Using cached sortedcontainers-2.4.0-py2.py3-none-any.whl.metadata (10 kB)\n",
            "Collecting outcome (from trio~=0.17->selenium>=4.18.1->crewai-tools>=0.17.0->crewai)\n",
            "  Using cached outcome-1.3.0.post0-py2.py3-none-any.whl.metadata (2.6 kB)\n",
            "Collecting wsproto>=0.14 (from trio-websocket~=0.9->selenium>=4.18.1->crewai-tools>=0.17.0->crewai)\n",
            "  Using cached wsproto-1.2.0-py3-none-any.whl.metadata (5.6 kB)\n",
            "Collecting pysocks!=1.5.7,<2.0,>=1.5.6 (from urllib3[socks]<3,>=1.26->selenium>=4.18.1->crewai-tools>=0.17.0->crewai)\n",
            "  Using cached PySocks-1.7.1-py3-none-any.whl.metadata (13 kB)\n",
            "Collecting humanfriendly>=9.1 (from coloredlogs->onnxruntime>=1.14.1->chromadb>=0.5.18->crewai)\n",
            "  Using cached humanfriendly-10.0-py2.py3-none-any.whl.metadata (9.2 kB)\n",
            "Requirement already satisfied: executing>=1.2.0 in c:\\users\\sushe\\appdata\\local\\programs\\python\\python312\\lib\\site-packages (from stack-data->ipython>=5.3.0->pyvis>=0.3.2->crewai) (2.0.1)\n",
            "Requirement already satisfied: asttokens>=2.1.0 in c:\\users\\sushe\\appdata\\local\\programs\\python\\python312\\lib\\site-packages (from stack-data->ipython>=5.3.0->pyvis>=0.3.2->crewai) (2.4.1)\n",
            "Requirement already satisfied: pure-eval in c:\\users\\sushe\\appdata\\local\\programs\\python\\python312\\lib\\site-packages (from stack-data->ipython>=5.3.0->pyvis>=0.3.2->crewai) (0.2.2)\n",
            "Requirement already satisfied: mpmath<1.4,>=1.1.0 in c:\\users\\sushe\\appdata\\local\\programs\\python\\python312\\lib\\site-packages (from sympy->onnxruntime>=1.14.1->chromadb>=0.5.18->crewai) (1.3.0)\n",
            "Requirement already satisfied: marshmallow<4.0.0,>=3.18.0 in c:\\users\\sushe\\appdata\\local\\programs\\python\\python312\\lib\\site-packages (from dataclasses-json<0.7,>=0.5.7->langchain-community<0.4.0,>=0.3.1->embedchain>=0.1.114->crewai-tools>=0.17.0->crewai) (3.23.1)\n",
            "Requirement already satisfied: typing-inspect<1,>=0.4.0 in c:\\users\\sushe\\appdata\\local\\programs\\python\\python312\\lib\\site-packages (from dataclasses-json<0.7,>=0.5.7->langchain-community<0.4.0,>=0.3.1->embedchain>=0.1.114->crewai-tools>=0.17.0->crewai) (0.9.0)\n",
            "Requirement already satisfied: grpcio-status<2.0.dev0,>=1.33.2 in c:\\users\\sushe\\appdata\\local\\programs\\python\\python312\\lib\\site-packages (from google-api-core[grpc]!=2.0.*,!=2.1.*,!=2.2.*,!=2.3.*,!=2.4.*,!=2.5.*,!=2.6.*,!=2.7.*,<3.0.0dev,>=1.34.1->google-cloud-aiplatform<2.0.0,>=1.26.1->embedchain>=0.1.114->crewai-tools>=0.17.0->crewai) (1.62.3)\n",
            "Collecting google-cloud-core<3.0.0dev,>=2.4.1 (from google-cloud-bigquery!=3.20.0,<4.0.0dev,>=1.15.0->google-cloud-aiplatform<2.0.0,>=1.26.1->embedchain>=0.1.114->crewai-tools>=0.17.0->crewai)\n",
            "  Using cached google_cloud_core-2.4.1-py2.py3-none-any.whl.metadata (2.7 kB)\n",
            "Collecting google-resumable-media<3.0dev,>=2.0.0 (from google-cloud-bigquery!=3.20.0,<4.0.0dev,>=1.15.0->google-cloud-aiplatform<2.0.0,>=1.26.1->embedchain>=0.1.114->crewai-tools>=0.17.0->crewai)\n",
            "  Using cached google_resumable_media-2.7.2-py2.py3-none-any.whl.metadata (2.2 kB)\n",
            "Collecting grpc-google-iam-v1<1.0.0dev,>=0.12.4 (from google-cloud-resource-manager<3.0.0dev,>=1.3.3->google-cloud-aiplatform<2.0.0,>=1.26.1->embedchain>=0.1.114->crewai-tools>=0.17.0->crewai)\n",
            "  Using cached grpc_google_iam_v1-0.13.1-py2.py3-none-any.whl.metadata (3.3 kB)\n",
            "Collecting google-crc32c<2.0dev,>=1.0 (from google-cloud-storage<3.0.0dev,>=1.32.0->google-cloud-aiplatform<2.0.0,>=1.26.1->embedchain>=0.1.114->crewai-tools>=0.17.0->crewai)\n",
            "  Using cached google_crc32c-1.6.0-cp312-cp312-win_amd64.whl.metadata (2.4 kB)\n",
            "Collecting pyreadline3 (from humanfriendly>=9.1->coloredlogs->onnxruntime>=1.14.1->chromadb>=0.5.18->crewai)\n",
            "  Using cached pyreadline3-3.5.4-py3-none-any.whl.metadata (4.7 kB)\n",
            "Requirement already satisfied: jsonpatch<2.0,>=1.33 in c:\\users\\sushe\\appdata\\local\\programs\\python\\python312\\lib\\site-packages (from langchain-core<0.4.0,>=0.3.26->langchain<0.4.0,>=0.3.1->embedchain>=0.1.114->crewai-tools>=0.17.0->crewai) (1.33)\n",
            "Collecting langchain-core<0.4.0,>=0.3.26 (from langchain<0.4.0,>=0.3.1->embedchain>=0.1.114->crewai-tools>=0.17.0->crewai)\n",
            "  Using cached langchain_core-0.3.28-py3-none-any.whl.metadata (6.3 kB)\n",
            "Requirement already satisfied: tzdata>=2022.7 in c:\\users\\sushe\\appdata\\local\\programs\\python\\python312\\lib\\site-packages (from pandas>=1.4.3->langchain-cohere<0.4.0,>=0.3.0->embedchain>=0.1.114->crewai-tools>=0.17.0->crewai) (2024.2)\n",
            "Requirement already satisfied: pyasn1<0.7.0,>=0.4.6 in c:\\users\\sushe\\appdata\\local\\programs\\python\\python312\\lib\\site-packages (from pyasn1-modules>=0.2.1->google-auth>=1.0.1->kubernetes>=28.1.0->chromadb>=0.5.18->crewai) (0.6.1)\n",
            "Collecting grpcio-tools>=1.41.0 (from qdrant-client<2.0.0,>=1.9.1->mem0ai<0.2.0,>=0.1.29->embedchain>=0.1.114->crewai-tools>=0.17.0->crewai)\n",
            "  Using cached grpcio_tools-1.68.1-cp312-cp312-win_amd64.whl.metadata (5.5 kB)\n",
            "Requirement already satisfied: portalocker<3.0.0,>=2.7.0 in c:\\users\\sushe\\appdata\\local\\programs\\python\\python312\\lib\\site-packages (from qdrant-client<2.0.0,>=1.9.1->mem0ai<0.2.0,>=0.1.29->embedchain>=0.1.114->crewai-tools>=0.17.0->crewai) (2.10.1)\n",
            "Collecting grpcio>=1.58.0 (from chromadb>=0.5.18->crewai)\n",
            "  Using cached grpcio-1.68.1-cp312-cp312-win_amd64.whl.metadata (4.0 kB)\n",
            "Requirement already satisfied: setuptools in c:\\users\\sushe\\appdata\\local\\programs\\python\\python312\\lib\\site-packages (from grpcio-tools>=1.41.0->qdrant-client<2.0.0,>=1.9.1->mem0ai<0.2.0,>=0.1.29->embedchain>=0.1.114->crewai-tools>=0.17.0->crewai) (69.1.0)\n",
            "Collecting h2<5,>=3 (from httpx[http2]>=0.20.0->qdrant-client<2.0.0,>=1.9.1->mem0ai<0.2.0,>=0.1.29->embedchain>=0.1.114->crewai-tools>=0.17.0->crewai)\n",
            "  Using cached h2-4.1.0-py3-none-any.whl.metadata (3.6 kB)\n",
            "Requirement already satisfied: jsonpointer>=1.9 in c:\\users\\sushe\\appdata\\local\\programs\\python\\python312\\lib\\site-packages (from jsonpatch<2.0,>=1.33->langchain-core<0.4.0,>=0.3.26->langchain<0.4.0,>=0.3.1->embedchain>=0.1.114->crewai-tools>=0.17.0->crewai) (2.4)\n",
            "Requirement already satisfied: mypy-extensions>=0.3.0 in c:\\users\\sushe\\appdata\\local\\programs\\python\\python312\\lib\\site-packages (from typing-inspect<1,>=0.4.0->dataclasses-json<0.7,>=0.5.7->langchain-community<0.4.0,>=0.3.1->embedchain>=0.1.114->crewai-tools>=0.17.0->crewai) (1.0.0)\n",
            "Collecting hyperframe<7,>=6.0 (from h2<5,>=3->httpx[http2]>=0.20.0->qdrant-client<2.0.0,>=1.9.1->mem0ai<0.2.0,>=0.1.29->embedchain>=0.1.114->crewai-tools>=0.17.0->crewai)\n",
            "  Using cached hyperframe-6.0.1-py3-none-any.whl.metadata (2.7 kB)\n",
            "Collecting hpack<5,>=4.0 (from h2<5,>=3->httpx[http2]>=0.20.0->qdrant-client<2.0.0,>=1.9.1->mem0ai<0.2.0,>=0.1.29->embedchain>=0.1.114->crewai-tools>=0.17.0->crewai)\n",
            "  Using cached hpack-4.0.0-py3-none-any.whl.metadata (2.5 kB)\n",
            "Using cached crewai-0.86.0-py3-none-any.whl (192 kB)\n",
            "Using cached appdirs-1.4.4-py2.py3-none-any.whl (9.6 kB)\n",
            "Using cached auth0_python-4.7.2-py3-none-any.whl (131 kB)\n",
            "Using cached chromadb-0.5.23-py3-none-any.whl (628 kB)\n",
            "Using cached crewai_tools-0.17.0-py3-none-any.whl (467 kB)\n",
            "Using cached instructor-1.7.2-py3-none-any.whl (71 kB)\n",
            "Using cached json_repair-0.34.0-py3-none-any.whl (19 kB)\n",
            "Using cached jsonref-1.1.0-py3-none-any.whl (9.4 kB)\n",
            "Using cached litellm-1.55.12-py3-none-any.whl (6.5 MB)\n",
            "Using cached openpyxl-3.1.5-py2.py3-none-any.whl (250 kB)\n",
            "Using cached opentelemetry_api-1.29.0-py3-none-any.whl (64 kB)\n",
            "Using cached opentelemetry_exporter_otlp_proto_http-1.29.0-py3-none-any.whl (17 kB)\n",
            "Using cached opentelemetry_exporter_otlp_proto_common-1.29.0-py3-none-any.whl (18 kB)\n",
            "Using cached opentelemetry_proto-1.29.0-py3-none-any.whl (55 kB)\n",
            "Using cached opentelemetry_sdk-1.29.0-py3-none-any.whl (118 kB)\n",
            "Using cached opentelemetry_semantic_conventions-0.50b0-py3-none-any.whl (166 kB)\n",
            "Using cached pdfplumber-0.11.4-py3-none-any.whl (59 kB)\n",
            "Using cached pdfminer.six-20231228-py3-none-any.whl (5.6 MB)\n",
            "Using cached pyvis-0.3.2-py3-none-any.whl (756 kB)\n",
            "Using cached regex-2024.11.6-cp312-cp312-win_amd64.whl (273 kB)\n",
            "Using cached tomli-2.2.1-cp312-cp312-win_amd64.whl (109 kB)\n",
            "Using cached tomli_w-1.1.0-py3-none-any.whl (6.4 kB)\n",
            "Using cached uv-0.5.12-py3-none-win_amd64.whl (16.3 MB)\n",
            "Using cached bcrypt-4.2.1-cp39-abi3-win_amd64.whl (153 kB)\n",
            "Using cached build-1.2.2.post1-py3-none-any.whl (22 kB)\n",
            "Using cached cryptography-43.0.3-cp39-abi3-win_amd64.whl (3.1 MB)\n",
            "Using cached Deprecated-1.2.15-py2.py3-none-any.whl (9.9 kB)\n",
            "Using cached docker-7.1.0-py3-none-any.whl (147 kB)\n",
            "Using cached docstring_parser-0.16-py3-none-any.whl (36 kB)\n",
            "Using cached embedchain-0.1.125-py3-none-any.whl (211 kB)\n",
            "Using cached importlib_metadata-8.5.0-py3-none-any.whl (26 kB)\n",
            "Using cached jsonpickle-4.0.1-py3-none-any.whl (46 kB)\n",
            "Using cached kubernetes-31.0.0-py2.py3-none-any.whl (1.9 MB)\n",
            "Using cached lancedb-0.17.0-cp39-abi3-win_amd64.whl (27.5 MB)\n",
            "Using cached pylance-0.20.0-cp39-abi3-win_amd64.whl (31.4 MB)\n",
            "Using cached mmh3-5.0.1-cp312-cp312-win_amd64.whl (39 kB)\n",
            "Using cached onnxruntime-1.20.1-cp312-cp312-win_amd64.whl (11.3 MB)\n",
            "Using cached opentelemetry_exporter_otlp_proto_grpc-1.29.0-py3-none-any.whl (18 kB)\n",
            "Using cached opentelemetry_instrumentation_fastapi-0.50b0-py3-none-any.whl (12 kB)\n",
            "Using cached opentelemetry_instrumentation-0.50b0-py3-none-any.whl (30 kB)\n",
            "Using cached opentelemetry_instrumentation_asgi-0.50b0-py3-none-any.whl (16 kB)\n",
            "Using cached opentelemetry_util_http-0.50b0-py3-none-any.whl (6.9 kB)\n",
            "Using cached posthog-3.7.4-py2.py3-none-any.whl (54 kB)\n",
            "Using cached pypdfium2-4.30.1-py3-none-win_amd64.whl (3.0 MB)\n",
            "Using cached pyright-1.1.391-py3-none-any.whl (18 kB)\n",
            "Using cached pytest-8.3.4-py3-none-any.whl (343 kB)\n",
            "Using cached pytube-15.0.0-py3-none-any.whl (57 kB)\n",
            "Using cached selenium-4.27.1-py3-none-any.whl (9.7 MB)\n",
            "Using cached tiktoken-0.7.0-cp312-cp312-win_amd64.whl (799 kB)\n",
            "Using cached et_xmlfile-2.0.0-py3-none-any.whl (18 kB)\n",
            "Using cached alembic-1.14.0-py3-none-any.whl (233 kB)\n",
            "Using cached backoff-2.2.1-py3-none-any.whl (15 kB)\n",
            "Using cached cohere-5.13.4-py3-none-any.whl (250 kB)\n",
            "Using cached durationpy-0.9-py3-none-any.whl (3.5 kB)\n",
            "Using cached google_cloud_aiplatform-1.75.0-py2.py3-none-any.whl (6.9 MB)\n",
            "Using cached gptcache-0.1.44-py3-none-any.whl (131 kB)\n",
            "Using cached httptools-0.6.4-cp312-cp312-win_amd64.whl (88 kB)\n",
            "Using cached langchain-0.3.13-py3-none-any.whl (1.0 MB)\n",
            "Using cached langchain_cohere-0.3.4-py3-none-any.whl (44 kB)\n",
            "Using cached numpy-1.26.4-cp312-cp312-win_amd64.whl (15.5 MB)\n",
            "Using cached mem0ai-0.1.36-py3-none-any.whl (83 kB)\n",
            "Using cached monotonic-1.6-py2.py3-none-any.whl (8.2 kB)\n",
            "Using cached nodeenv-1.9.1-py2.py3-none-any.whl (22 kB)\n",
            "Using cached pluggy-1.5.0-py3-none-any.whl (20 kB)\n",
            "Using cached protobuf-5.29.2-cp310-abi3-win_amd64.whl (434 kB)\n",
            "Using cached pypdf-5.1.0-py3-none-any.whl (297 kB)\n",
            "Using cached pysbd-0.3.4-py3-none-any.whl (71 kB)\n",
            "Using cached schema-0.7.7-py2.py3-none-any.whl (18 kB)\n",
            "Using cached trio-0.28.0-py3-none-any.whl (486 kB)\n",
            "Using cached trio_websocket-0.11.1-py3-none-any.whl (17 kB)\n",
            "Using cached watchfiles-1.0.3-cp312-cp312-win_amd64.whl (285 kB)\n",
            "Using cached websocket_client-1.8.0-py3-none-any.whl (58 kB)\n",
            "Using cached zipp-3.21.0-py3-none-any.whl (9.6 kB)\n",
            "Using cached coloredlogs-15.0.1-py2.py3-none-any.whl (46 kB)\n",
            "Using cached iniconfig-2.0.0-py3-none-any.whl (5.9 kB)\n",
            "Using cached pyproject_hooks-1.2.0-py3-none-any.whl (10 kB)\n",
            "Using cached asgiref-3.8.1-py3-none-any.whl (23 kB)\n",
            "Using cached fastavro-1.10.0-cp312-cp312-win_amd64.whl (487 kB)\n",
            "Using cached google_cloud_bigquery-3.27.0-py2.py3-none-any.whl (240 kB)\n",
            "Using cached google_cloud_resource_manager-1.14.0-py2.py3-none-any.whl (384 kB)\n",
            "Using cached google_cloud_storage-2.19.0-py2.py3-none-any.whl (131 kB)\n",
            "Using cached humanfriendly-10.0-py2.py3-none-any.whl (86 kB)\n",
            "Using cached langchain_experimental-0.3.4-py3-none-any.whl (209 kB)\n",
            "Using cached langchain_core-0.3.28-py3-none-any.whl (411 kB)\n",
            "Using cached langchain_text_splitters-0.3.4-py3-none-any.whl (27 kB)\n",
            "Using cached parameterized-0.9.0-py2.py3-none-any.whl (20 kB)\n",
            "Using cached PySocks-1.7.1-py3-none-any.whl (16 kB)\n",
            "Using cached qdrant_client-1.12.1-py3-none-any.whl (267 kB)\n",
            "Using cached shapely-2.0.6-cp312-cp312-win_amd64.whl (1.4 MB)\n",
            "Using cached tabulate-0.9.0-py3-none-any.whl (35 kB)\n",
            "Using cached types_requests-2.32.0.20241016-py3-none-any.whl (15 kB)\n",
            "Using cached wsproto-1.2.0-py3-none-any.whl (24 kB)\n",
            "Using cached Mako-1.3.8-py3-none-any.whl (78 kB)\n",
            "Using cached outcome-1.3.0.post0-py2.py3-none-any.whl (10 kB)\n",
            "Using cached sortedcontainers-2.4.0-py2.py3-none-any.whl (29 kB)\n",
            "Using cached google_cloud_core-2.4.1-py2.py3-none-any.whl (29 kB)\n",
            "Using cached google_crc32c-1.6.0-cp312-cp312-win_amd64.whl (33 kB)\n",
            "Using cached google_resumable_media-2.7.2-py2.py3-none-any.whl (81 kB)\n",
            "Using cached grpc_google_iam_v1-0.13.1-py2.py3-none-any.whl (24 kB)\n",
            "Using cached grpcio_tools-1.68.1-cp312-cp312-win_amd64.whl (1.1 MB)\n",
            "Using cached grpcio-1.68.1-cp312-cp312-win_amd64.whl (4.4 MB)\n",
            "Using cached pyreadline3-3.5.4-py3-none-any.whl (83 kB)\n",
            "Using cached h2-4.1.0-py3-none-any.whl (57 kB)\n",
            "Using cached hpack-4.0.0-py3-none-any.whl (32 kB)\n",
            "Using cached hyperframe-6.0.1-py3-none-any.whl (12 kB)\n",
            "Building wheels for collected packages: chroma-hnswlib\n",
            "  Building wheel for chroma-hnswlib (pyproject.toml): started\n",
            "  Building wheel for chroma-hnswlib (pyproject.toml): finished with status 'error'\n",
            "Failed to build chroma-hnswlib\n"
          ]
        }
      ],
      "source": [
        "!pip install crewai"
      ]
    },
    {
      "cell_type": "code",
      "execution_count": null,
      "metadata": {
        "colab": {
          "base_uri": "https://localhost:8080/"
        },
        "id": "V6e4qWfx5KOu",
        "outputId": "a309224d-b0bc-471b-bcf6-5b6ccb2c282c"
      },
      "outputs": [],
      "source": [
        "!pip install --upgrade langchain crewai"
      ]
    },
    {
      "cell_type": "code",
      "execution_count": 1,
      "metadata": {
        "id": "1NWd31Yf2UUz"
      },
      "outputs": [
        {
          "name": "stdout",
          "output_type": "stream",
          "text": [
            "^C\n"
          ]
        }
      ],
      "source": [
        "!pip install --q -U duckduckgo-search"
      ]
    },
    {
      "cell_type": "code",
      "execution_count": null,
      "metadata": {
        "colab": {
          "base_uri": "https://localhost:8080/"
        },
        "id": "krOt3Fsw2USG",
        "outputId": "686a234c-92f6-4b8f-d6fe-28c9d8054ad4"
      },
      "outputs": [],
      "source": [
        "!pip install langchain_google_genai"
      ]
    },
    {
      "cell_type": "code",
      "execution_count": null,
      "metadata": {
        "colab": {
          "base_uri": "https://localhost:8080/"
        },
        "id": "gyKP0yop3PL9",
        "outputId": "4e2ba3c7-8eab-4c07-da21-906a3af2613a"
      },
      "outputs": [],
      "source": [
        "!pip install langchain-core==0.2.40  # Example version compatible with pydantic v1\n",
        "!pip install langchain==0.2.16       # Example version\n",
        "#!pip install crewai==<compatible_version>  # U"
      ]
    },
    {
      "cell_type": "markdown",
      "metadata": {
        "id": "nRv8-Ja1R8S6"
      },
      "source": [
        "### Required Packages"
      ]
    },
    {
      "cell_type": "code",
      "execution_count": null,
      "metadata": {
        "colab": {
          "base_uri": "https://localhost:8080/"
        },
        "id": "ULymfzlr5bzi",
        "outputId": "60041851-96d1-438b-c820-722343120fa5"
      },
      "outputs": [],
      "source": [
        "!pip install langchain-core==0.2.40  # Compatible version\n",
        "!pip install langchain-google-genai==2.0.0\n",
        "!pip install crewai==0.1.0  # Example version, adjust if necessary"
      ]
    },
    {
      "cell_type": "code",
      "execution_count": 4,
      "metadata": {
        "colab": {
          "base_uri": "https://localhost:8080/",
          "height": 339
        },
        "id": "J9U8qs3aRLfh",
        "outputId": "987355f6-fd7e-4532-f1a9-bbbb1decbf35"
      },
      "outputs": [
        {
          "ename": "ImportError",
          "evalue": "cannot import name 'DuckDuckGoSearch' from 'langchain.tools' (c:\\Users\\sushe\\anaconda3\\envs\\crewai\\Lib\\site-packages\\langchain\\tools\\__init__.py)",
          "output_type": "error",
          "traceback": [
            "\u001b[1;31m---------------------------------------------------------------------------\u001b[0m",
            "\u001b[1;31mImportError\u001b[0m                               Traceback (most recent call last)",
            "Cell \u001b[1;32mIn[4], line 5\u001b[0m\n\u001b[0;32m      3\u001b[0m \u001b[38;5;28;01mfrom\u001b[39;00m \u001b[38;5;21;01mcrewai\u001b[39;00m \u001b[38;5;28;01mimport\u001b[39;00m Agent, Task, Crew, Process\n\u001b[0;32m      4\u001b[0m \u001b[38;5;66;03m#from langchain.tools import DuckDuckGoSearch\u001b[39;00m\n\u001b[1;32m----> 5\u001b[0m \u001b[38;5;28;01mfrom\u001b[39;00m \u001b[38;5;21;01mlangchain\u001b[39;00m\u001b[38;5;21;01m.\u001b[39;00m\u001b[38;5;21;01mtools\u001b[39;00m \u001b[38;5;28;01mimport\u001b[39;00m DuckDuckGoSearch\n",
            "\u001b[1;31mImportError\u001b[0m: cannot import name 'DuckDuckGoSearch' from 'langchain.tools' (c:\\Users\\sushe\\anaconda3\\envs\\crewai\\Lib\\site-packages\\langchain\\tools\\__init__.py)"
          ]
        }
      ],
      "source": [
        "import os\n",
        "from langchain_google_genai import ChatGoogleGenerativeAI\n",
        "from crewai import Agent, Task, Crew, Process\n",
        "#from langchain.tools import DuckDuckGoSearch\n",
        "from langchain.tools import DuckDuckGoSearch"
      ]
    },
    {
      "cell_type": "code",
      "execution_count": null,
      "metadata": {
        "colab": {
          "base_uri": "https://localhost:8080/",
          "height": 391
        },
        "id": "JuYM2qRF3CVD",
        "outputId": "a5cd4770-69d0-4ea7-ccc1-12a7ae78a9d6"
      },
      "outputs": [],
      "source": [
        "import os\n",
        "try:\n",
        "    from langchain_google_genai import ChatGoogleGenerativeAI\n",
        "    print(\"langchain_google_genai imported successfully\")\n",
        "except ImportError as e:\n",
        "    print(f\"Error importing langchain_google_genai: {e}\")\n",
        "\n",
        "try:\n",
        "    from crewai import Agent, Task, Crew, Process\n",
        "    print(\"crewai imported successfully\")\n",
        "except ImportError as e:\n",
        "    print(f\"Error importing crewai: {e}\")\n"
      ]
    },
    {
      "cell_type": "code",
      "execution_count": null,
      "metadata": {
        "id": "bL6UHDe3wzq5"
      },
      "outputs": [],
      "source": [
        "import os\n",
        "from langchain_google_genai import ChatGoogleGenerativeAI\n",
        "from crewai import Agent, Task, Crew, Process\n",
        "\n",
        "from pydantic import BaseModel\n",
        "from langchain.chains import LLMChain\n",
        "\n",
        "# Define a Pydantic model for LLMChain\n",
        "class LLMChainModel(BaseModel):\n",
        "    llm_chain: LLMChain\n",
        "\n",
        "# Register the validator with Pydantic\n",
        "BaseModel.register_validator(\"llm_chain\", lambda v: v)"
      ]
    },
    {
      "cell_type": "markdown",
      "metadata": {
        "id": "251A9PjVT6s3"
      },
      "source": [
        "### set up the LLM"
      ]
    },
    {
      "cell_type": "code",
      "execution_count": null,
      "metadata": {
        "id": "-jAOVSSISABN"
      },
      "outputs": [],
      "source": [
        "# Set gemini pro as llm\n",
        "llm = ChatGoogleGenerativeAI(model=\"gemini-1.5-flash-8b-exp-0827\",\n",
        "                             verbose = True,\n",
        "                             temperature = 0.2,\n",
        "                             google_api_key=\"\")"
      ]
    },
    {
      "cell_type": "code",
      "execution_count": null,
      "metadata": {
        "id": "5JWWiUyvtaiw"
      },
      "outputs": [],
      "source": [
        "#model = models/gemini-1.5-flash-8b-exp-0827\n",
        "#model = gemini-1.5-flash"
      ]
    },
    {
      "cell_type": "code",
      "execution_count": null,
      "metadata": {
        "id": "DtYh4tiCT2cg"
      },
      "outputs": [],
      "source": [
        "llm"
      ]
    },
    {
      "cell_type": "markdown",
      "metadata": {
        "id": "BSumWCcRUUDl"
      },
      "source": [
        "### setup tools"
      ]
    },
    {
      "cell_type": "code",
      "execution_count": null,
      "metadata": {
        "id": "DiaqNKjsT4jc"
      },
      "outputs": [],
      "source": [
        "# Make sure to Install duckduckgo-search for this example:\n",
        "# !pip install -U duckduckgo-search\n",
        "\n",
        "from langchain.tools import DuckDuckGoSearchRun\n",
        "search_tool = DuckDuckGoSearchRun()"
      ]
    },
    {
      "cell_type": "markdown",
      "metadata": {
        "id": "-a9pqtdqUgtJ"
      },
      "source": [
        "### setup agents"
      ]
    },
    {
      "cell_type": "code",
      "execution_count": null,
      "metadata": {
        "id": "SLDSHOuCUXna"
      },
      "outputs": [],
      "source": [
        "# Define your agents with roles and goals\n",
        "researcher = Agent(\n",
        "  role='Senior Genertive AI Engineer',\n",
        "\n",
        "  goal='Generate llm developer application deploy to production environment',\n",
        "\n",
        "  backstory=\"\"\"You work as a leading tech leader.\n",
        "  Your expertise lies in identifying emerging trends.\n",
        "  You need to provide solution for any deployment issues.\"\"\",\n",
        "\n",
        "  verbose=True,\n",
        "  allow_delegation=False,\n",
        "  llm = llm,  #using google gemini flash API\n",
        "  tools=[\n",
        "        search_tool\n",
        "      ]\n",
        "  # You can pass an optional llm attribute specifying what mode you wanna use.\n",
        "  # It can be a local model through Ollama / LM Studio or a remote\n",
        "  # model like OpenAI, Mistral, Antrophic of others (https://python.langchain.com/docs/integrations/llms/)\n",
        "  #\n",
        "  # Examples:\n",
        "  # llm=ollama_llm # was defined above in the file\n",
        "  # llm=ChatOpenAI(model_name=\"gpt-3.5\", temperature=0.7)\n",
        ")"
      ]
    },
    {
      "cell_type": "code",
      "execution_count": null,
      "metadata": {
        "id": "Bg92o2wyVpKs"
      },
      "outputs": [],
      "source": [
        "writer = Agent(\n",
        "  role='Generative AI & llm model developer',\n",
        "\n",
        "  goal='How a Non Technical can improve an llm model',\n",
        "\n",
        "  backstory=\"\"\"Summarize detailed roadmap to become llm developer.\n",
        "  how to land a job with more package.\"\"\",\n",
        "\n",
        "  verbose=True,\n",
        "  allow_delegation=False,\n",
        "  llm = llm,  #using google gemini pro API\n",
        "  tools=[]\n",
        ")\n"
      ]
    },
    {
      "cell_type": "markdown",
      "metadata": {
        "id": "dmdxvELxV6J1"
      },
      "source": [
        "### Tasks to perform"
      ]
    },
    {
      "cell_type": "code",
      "execution_count": null,
      "metadata": {
        "id": "A-4JKXRFe9NJ"
      },
      "outputs": [],
      "source": [
        "# Create tasks for your agents\n",
        "task1 = Task(\n",
        "  description=\"\"\"Summarize detailed roadmap to become llm developer.\n",
        "  how to land a job with more package. Conduct a comprehensive analysis of the latest advancements in generative AI in 2024.\n",
        "  Identify key trends, breakthrough technologies, and potential industry impacts, job market.\n",
        "  Your final answer MUST be a full analysis report\"\"\",\n",
        "\n",
        "  agent=researcher,\n",
        "\n",
        "  expected_output=\"A full analysis report on generative ai jobs & the latest advancements in AI in 2024, including key trends, breakthrough technologies, and potential industry impacts.\" # Add the expected output for the task\n",
        ")"
      ]
    },
    {
      "cell_type": "code",
      "execution_count": null,
      "metadata": {
        "id": "PpoGib_hWCtQ"
      },
      "outputs": [],
      "source": [
        "task2 = Task(\n",
        "  description=\"\"\"Using the insights provided, develop an engaging blog\n",
        "  post that highlights the most significant AI advancements.\n",
        "  Your post should be informative yet accessible, catering to a tech-savvy audience.\n",
        "  Make it sound cool, avoid complex words so it doesn't sound like AI.\n",
        "  Your final answer MUST be the full blog post of at least 4 paragraphs.\"\"\",\n",
        "\n",
        "  agent=writer,\n",
        "  expected_output=\"A full blog post about roadmap to learn llm model, datascience and highlighting the most significant AI advancements in a clear and engaging way.\" # Added expected output for task2\n",
        ")"
      ]
    },
    {
      "cell_type": "markdown",
      "metadata": {
        "id": "yvjya2FzWR5m"
      },
      "source": [
        "### Create a Crew"
      ]
    },
    {
      "cell_type": "code",
      "execution_count": null,
      "metadata": {
        "id": "yYykbGq2WRSP"
      },
      "outputs": [],
      "source": [
        "crew = Crew(\n",
        "  agents=[researcher, writer],\n",
        "  tasks=[task1, task2],\n",
        "  verbose=True, # Change verbose to True or False for different logging levels\n",
        ")"
      ]
    },
    {
      "cell_type": "code",
      "execution_count": null,
      "metadata": {
        "id": "xSBr8D6tWloT"
      },
      "outputs": [],
      "source": [
        "crew"
      ]
    },
    {
      "cell_type": "markdown",
      "metadata": {
        "id": "-tjmzH9cXOaB"
      },
      "source": [
        "### Kickoff the crew - let the magic happen"
      ]
    },
    {
      "cell_type": "code",
      "execution_count": null,
      "metadata": {
        "id": "VU3LdZmIWqQH"
      },
      "outputs": [],
      "source": [
        "# Get your crew to work!\n",
        "result = crew.kickoff()"
      ]
    },
    {
      "cell_type": "code",
      "execution_count": null,
      "metadata": {
        "id": "HB91fa7BXULb"
      },
      "outputs": [],
      "source": [
        "print(result)"
      ]
    },
    {
      "cell_type": "code",
      "execution_count": null,
      "metadata": {
        "colab": {
          "base_uri": "https://localhost:8080/",
          "height": 373
        },
        "id": "4v_zrFftXqdk",
        "outputId": "51a6a616-5b5a-49f1-ff39-dc49537a3c5a"
      },
      "outputs": [],
      "source": [
        "# Import necessary libraries\n",
        "from langchain_google_genai import ChatGoogleGenerativeAI\n",
        "from crewai import Agent, Task, Crew, Process\n",
        "\n",
        "# Initialize the ChatGoogleGenerativeAI instance\n",
        "chat_generative_ai = ChatGoogleGenerativeAI(api_key=\"\")\n",
        "\n",
        "# Define a sample task\n",
        "task = Task(\n",
        "    name=\"Sample Task\",\n",
        "    description=\"A task that uses Google Generative AI for processing.\"\n",
        ")\n",
        "\n",
        "# Create an Agent\n",
        "agent = Agent(\n",
        "    name=\"Sample Agent\",\n",
        "    tasks=[task],\n",
        "    ai_instance=chat_generative_ai\n",
        ")\n",
        "\n",
        "# Initialize the Crew with the Agent\n",
        "crew = Crew(\n",
        "    name=\"Sample Crew\",\n",
        "    agents=[agent]\n",
        ")\n",
        "\n",
        "# Define a process that uses the Crew\n",
        "process = Process(\n",
        "    name=\"Sample Process\",\n",
        "    crew=crew\n",
        ")\n",
        "\n",
        "# Run the process\n",
        "result = process.run()\n",
        "\n",
        "print(result)\n"
      ]
    }
  ],
  "metadata": {
    "accelerator": "GPU",
    "colab": {
      "gpuType": "T4",
      "provenance": []
    },
    "kernelspec": {
      "display_name": "crewai",
      "language": "python",
      "name": "python3"
    },
    "language_info": {
      "codemirror_mode": {
        "name": "ipython",
        "version": 3
      },
      "file_extension": ".py",
      "mimetype": "text/x-python",
      "name": "python",
      "nbconvert_exporter": "python",
      "pygments_lexer": "ipython3",
      "version": "3.11.11"
    }
  },
  "nbformat": 4,
  "nbformat_minor": 0
}
